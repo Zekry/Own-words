{
 "cells": [
  {
   "cell_type": "code",
   "execution_count": 1,
   "metadata": {},
   "outputs": [],
   "source": [
    "# import needed packages\n",
    "from gensim.summarization import keywords\n",
    "from nltk.corpus import wordnet as wn\n",
    "import requests\n",
    "import time\n",
    "import pandas as pd\n",
    "import gensim.downloader as api\n",
    "import pickle\n",
    "import numpy as np"
   ]
  },
  {
   "cell_type": "code",
   "execution_count": 6,
   "metadata": {},
   "outputs": [],
   "source": [
    "# load text to be prcessed. I used text from different sources to test results\n",
    "\n",
    "# f = open(\"test.txt\", \"r\")\n",
    "# text = f.read()\n",
    "text = \"The Wandering Earth, described as China’s first big-budget science fiction thriller, quietly made it onto screens at AMC theaters in North America this weekend, and it shows a new side of Chinese filmmaking — one focused toward futuristic spectacles rather than China’s traditionally grand, massive historical epics. At the same time, The Wandering Earth feels like a throwback to a few familiar eras of American filmmaking. While the film’s cast, setting, and tone are all Chinese, longtime science fiction fans are going to see a lot on the screen that reminds them of other movies, for better or worse.\"\n"
   ]
  },
  {
   "cell_type": "code",
   "execution_count": 5,
   "metadata": {},
   "outputs": [],
   "source": [
    "# this function includes all the steps involved in processing text\n",
    "def process_text(text):\n",
    "# first using gensim's keywords to extract most important words from text. The size of outcome can be controled by \n",
    "# the ratio argument\n",
    "    kw = keywords(text, ratio=0.1, split=False, scores=False, pos_filter=None, deacc=True).split()\n",
    "    lms = []\n",
    "# next step is using nltk's wordnet to lemmatize extracted words\n",
    "    for word in kw:\n",
    "        lemma = wn.morphy(word)\n",
    "        if lemma is None:\n",
    "            lms.append(word)\n",
    "        else:\n",
    "            lms.append(lemma)\n",
    "# here I am using a word2vec model that was trained on emmbeddings pretrained on wikipedia corpus\n",
    "# model is used here to add words similar to the extracted keywords to increase vocabulary\n",
    "    model = pickle.load(open('vectors.pkl', 'rb'))\n",
    "    related_words = {}\n",
    "    for w in lms:\n",
    "        try:\n",
    "            words = [w, model.most_similar(w, topn=4)[0][0], model.most_similar(w, topn=4)[1][0], \n",
    "                     model.most_similar(w, topn=4)[2][0], model.most_similar(w, topn=4)[3][0]]\n",
    "            related_words.update({w: words})\n",
    "        except:\n",
    "            pass\n",
    "# after that it will send queries to Yandex API to get translations for all the words we have and compile them into\n",
    "# a dataframe\n",
    "    new = pd.DataFrame()\n",
    "    for key in related_words:\n",
    "        list_ = []\n",
    "        for value in related_words[key]:\n",
    "            try:\n",
    "                params = {'key':'dict.1.1.20190811T153301Z.6c88b4d06dce90ee.7ef3e4ec8ade64d1b8999ef0b5d1c6667df87c9f', \n",
    "                          'lang': 'en-de', 'text':value}\n",
    "                response = requests.get(\"https://dictionary.yandex.net/api/v1/dicservice.json/lookup?\", params=params)\n",
    "                hmm = tuple([response.json()['def'][0]['text'], response.json()['def'][0]['tr'][0]['text']])\n",
    "                list_.extend([hmm])\n",
    "            except:\n",
    "                pass\n",
    "                list_.extend([None])\n",
    "        new[key] = list_\n",
    "#finally preparing the output to the user. since not all words find a corresponding translation, I opted for desplaying\n",
    "# only 2 of the 4 related words to avoid showing none values in the outcome, besides the word from text\n",
    "    results = []\n",
    "    for row in new.T.to_numpy():\n",
    "        results.append([cell for cell in row if cell is not None])\n",
    "        final_table = pd.DataFrame(results)[[0,1,2]]\n",
    "    return final_table"
   ]
  },
  {
   "cell_type": "code",
   "execution_count": 8,
   "metadata": {},
   "outputs": [],
   "source": [
    "find_table = process_text(text)"
   ]
  },
  {
   "cell_type": "code",
   "execution_count": 9,
   "metadata": {},
   "outputs": [
    {
     "data": {
      "text/html": [
       "<div>\n",
       "<style scoped>\n",
       "    .dataframe tbody tr th:only-of-type {\n",
       "        vertical-align: middle;\n",
       "    }\n",
       "\n",
       "    .dataframe tbody tr th {\n",
       "        vertical-align: top;\n",
       "    }\n",
       "\n",
       "    .dataframe thead th {\n",
       "        text-align: right;\n",
       "    }\n",
       "</style>\n",
       "<table border=\"1\" class=\"dataframe\">\n",
       "  <thead>\n",
       "    <tr style=\"text-align: right;\">\n",
       "      <th></th>\n",
       "      <th>0</th>\n",
       "      <th>1</th>\n",
       "      <th>2</th>\n",
       "    </tr>\n",
       "  </thead>\n",
       "  <tbody>\n",
       "    <tr>\n",
       "      <th>0</th>\n",
       "      <td>(earth, Erde)</td>\n",
       "      <td>(planet, Planet)</td>\n",
       "      <td>(Mars, Mars)</td>\n",
       "    </tr>\n",
       "    <tr>\n",
       "      <th>1</th>\n",
       "      <td>(science, Wissenschaft)</td>\n",
       "      <td>(Sciences, Biowissenschaften)</td>\n",
       "      <td>(physics, Physik)</td>\n",
       "    </tr>\n",
       "    <tr>\n",
       "      <th>2</th>\n",
       "      <td>(fiction, Fiktion)</td>\n",
       "      <td>(novels, Liebesromane)</td>\n",
       "      <td>(novel, Roman)</td>\n",
       "    </tr>\n",
       "  </tbody>\n",
       "</table>\n",
       "</div>"
      ],
      "text/plain": [
       "                         0                              1                  2\n",
       "0            (earth, Erde)               (planet, Planet)       (Mars, Mars)\n",
       "1  (science, Wissenschaft)  (Sciences, Biowissenschaften)  (physics, Physik)\n",
       "2       (fiction, Fiktion)         (novels, Liebesromane)     (novel, Roman)"
      ]
     },
     "execution_count": 9,
     "metadata": {},
     "output_type": "execute_result"
    }
   ],
   "source": [
    "# and this is a sample of how the out come would look like. The longer the text and higher ratio in the keywords\n",
    "# function the more the words we are getting back will be\n",
    "find_table"
   ]
  },
  {
   "cell_type": "code",
   "execution_count": null,
   "metadata": {},
   "outputs": [],
   "source": []
  }
 ],
 "metadata": {
  "kernelspec": {
   "display_name": "Python 3",
   "language": "python",
   "name": "python3"
  },
  "language_info": {
   "codemirror_mode": {
    "name": "ipython",
    "version": 3
   },
   "file_extension": ".py",
   "mimetype": "text/x-python",
   "name": "python",
   "nbconvert_exporter": "python",
   "pygments_lexer": "ipython3",
   "version": "3.6.8"
  }
 },
 "nbformat": 4,
 "nbformat_minor": 2
}
